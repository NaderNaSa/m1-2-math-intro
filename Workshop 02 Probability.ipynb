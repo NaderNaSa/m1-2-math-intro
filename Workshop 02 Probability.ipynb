{
 "nbformat": 4,
 "nbformat_minor": 2,
 "metadata": {
  "language_info": {
   "name": "python",
   "codemirror_mode": {
    "name": "ipython",
    "version": 3
   },
   "version": "3.8.3-final"
  },
  "orig_nbformat": 2,
  "file_extension": ".py",
  "mimetype": "text/x-python",
  "name": "python",
  "npconvert_exporter": "python",
  "pygments_lexer": "ipython3",
  "version": 3,
  "kernelspec": {
   "name": "Python 3.8.3 64-bit ('base': conda)",
   "display_name": "Python 3.8.3 64-bit ('base': conda)",
   "metadata": {
    "interpreter": {
     "hash": "daafc3ee463ae6a6e938d259a72173547891d3ff987a8c4f19dbc6d1f93b849e"
    }
   }
  }
 },
 "cells": [
  {
   "cell_type": "markdown",
   "metadata": {},
   "source": [
    "# Warmup: Count to 50\n",
    "\n",
    "Use a RNG to generate rolls of a 12-sided die. \n",
    "Write a function that counts the number of rolls taken until the total of the rolls totals 50 or more.\n",
    "\n",
    "```\n",
    "rollto50() -> 5\n",
    "rollto50() -> 6\n",
    "```"
   ]
  },
  {
   "cell_type": "code",
   "execution_count": 75,
   "metadata": {},
   "outputs": [
    {
     "output_type": "stream",
     "name": "stdout",
     "text": [
      "8\n"
     ]
    }
   ],
   "source": [
    "import numpy as np\n",
    "\n",
    "def rollto50():\n",
    "    rolls=0\n",
    "    tot=0\n",
    "    while tot <= 50:\n",
    "        rolls += 1\n",
    "        tot += np.random.randint(1,12)\n",
    "    return rolls\n",
    "\n",
    "print(rollto50())"
   ]
  },
  {
   "cell_type": "markdown",
   "metadata": {},
   "source": [
    "# Problem 1: Monte Carlo Sampling\n",
    "\n",
    "Data Scientists are often lazy. Instead of calculating the exact probability of complex events, we simulate samples with a RNG and average the results. This is called **Monte Carlo Sampling** after the casino in Monaco (yes, really).\n",
    "\n",
    "Write a function `monte_carlo_dice(n)` that given a 6-sided die, rolls it $n$ times and averages the result.\n",
    "\n",
    "The result should get closer to the true expected value (3.5) as $n$ increases:\n",
    "\n",
    "```\n",
    "n: 100 Trial average 3.39 \n",
    "n: 1000 Trial average 3.576 \n",
    "n: 10000 Trial average 3.5054 \n",
    "n: 100000 Trial average 3.50201 \n",
    "n: 500000 Trial average 3.495568\n",
    "```"
   ]
  },
  {
   "cell_type": "code",
   "execution_count": 22,
   "metadata": {},
   "outputs": [
    {
     "output_type": "stream",
     "name": "stdout",
     "text": [
      "3.625\n",
      "3.4595\n",
      "3.49065\n",
      "3.50317\n",
      "3.499036\n"
     ]
    }
   ],
   "source": [
    "import numpy as np\n",
    "\n",
    "def monte_carlo_dice(n_trials):\n",
    "    llist =  (   [ ((np.random.randint(1, 7))+(np.random.randint(1, 7)))/2 for x in range(n_trials) ])\n",
    "    return np.average(llist)\n",
    "\n",
    "print (monte_carlo_dice(100))\n",
    "print (monte_carlo_dice(1000))\n",
    "print (monte_carlo_dice(10000))\n",
    "print (monte_carlo_dice(100000))\n",
    "print (monte_carlo_dice(500000))"
   ]
  },
  {
   "cell_type": "code",
   "execution_count": 52,
   "metadata": {},
   "outputs": [
    {
     "output_type": "execute_result",
     "data": {
      "text/plain": [
       "3.497983"
      ]
     },
     "metadata": {},
     "execution_count": 52
    }
   ],
   "source": [
    "print (monte_carlo_dice(500000))\n"
   ]
  },
  {
   "cell_type": "markdown",
   "metadata": {},
   "source": [
    "# 2: Estimating the Area of a Circle\n",
    "\n",
    "Consider a dartboard with a circle of radius $r$ inscribed in a square with side $2r$. Now let’s say you start throwing a large number of darts at it. \n",
    "\n",
    "Some of these will hit the board within the circle—let’s say, $N$—and others out-side it—let’s say, $M$. If we consider the fraction of darts that land inside the circle:\n",
    "\n",
    "$$f = \\dfrac{N}{N + M}$$\n",
    "\n",
    "Then the value of $f * A$ with $A$ being the area of the square will approximate the actual area of the circle (which is  $\\pi  r$^2)\n",
    "\n",
    "<img src=\"Circle Target.png\" style=\"width: 200px;\">\n",
    "\n",
    "Write a function `circle_estimate(radius, trials)` which will estimate the area of a circle by throwing `trials` random darts at the square.\n",
    "\n",
    "\n",
    "\n",
    "```\n",
    "Radius: 2\n",
    "Area: 12.566370614359172, Estimated (1000 darts): 12.576\n",
    "Area: 12.566370614359172, Estimated (100000 darts): 12.58176\n",
    "Area: 12.566370614359172, Estimated (1000000 darts): 12.560128\n",
    "```\n",
    "\n",
    "**Hint:** Generate 2 random numbers for each dart throw, one for the `x` axis and one for the `y` axis. Use the [Pythagorean Theorem](https://en.wikipedia.org/wiki/Pythagorean_theorem) find if it's outside the circle"
   ]
  },
  {
   "cell_type": "code",
   "execution_count": 42,
   "metadata": {},
   "outputs": [
    {
     "output_type": "stream",
     "name": "stdout",
     "text": [
      "12.784\n12.54464\n"
     ]
    }
   ],
   "source": [
    "# Finding the area of a circle through simulation?\n",
    "import math\n",
    "import random\n",
    "\n",
    "def circle_estimate(radius,trials):\n",
    "    hits = 0\n",
    "    for run in range(trials):\n",
    "        rand_x = random.uniform(-radius,radius)\n",
    "        rand_y = random.uniform(-radius,radius)\n",
    "        c_squared = (rand_x ** 2) + (rand_y ** 2)\n",
    "        outcome = math.sqrt(c_squared)\n",
    "        #print(rand_x)\n",
    "        if outcome < radius:\n",
    "            hits += 1\n",
    "    hit_ratio =  hits / trials\n",
    "    total_area_square = (2*radius)**2\n",
    "    return hit_ratio * total_area_square\n",
    "\n",
    "\n",
    "print(circle_estimate(2,1000)) #12.368\n",
    "print(circle_estimate(2,100000)) #12.57616\n",
    "#print(circle_estimate(2,1000000)) #12.563664\n",
    "\n",
    "\n"
   ]
  },
  {
   "cell_type": "code",
   "execution_count": null,
   "metadata": {},
   "outputs": [],
   "source": [
    "#circle = product of f(fraction of darts inside circle) and A(A=area of square)\n",
    "#pi*r^2"
   ]
  },
  {
   "cell_type": "markdown",
   "metadata": {},
   "source": [
    "# 3: Binomial distribution\n",
    "\n",
    "The [binomial random variable](https://en.wikipedia.org/wiki/Binomial_distribution) $ Y \\sim Bin(n, p) $ represents the number of successes in $ n $ coin flips, where each trial succeeds with probability $ p $.\n",
    "\n",
    "Without any import besides `from numpy.random import uniform`, write a function\n",
    "`binomial_rv` such that `binomial_rv(n, p)` generates one draw of $ Y $.\n",
    "\n",
    "Hint: If $ U $ is uniform on $ (0, 1) $ and $ p \\in (0,1) $, then the expression `U < p` evaluates to `True` with probability $ p $."
   ]
  },
  {
   "cell_type": "code",
   "execution_count": 106,
   "metadata": {},
   "outputs": [],
   "source": [
    "from numpy.random import uniform\n",
    "def binomial_rv(n, p):\n",
    "    count=0\n",
    "    for i in range(n):\n",
    "        if uniform(0,1) < p:\n",
    "            count += 1\n",
    "    return count"
   ]
  },
  {
   "cell_type": "code",
   "execution_count": 107,
   "metadata": {},
   "outputs": [
    {
     "output_type": "execute_result",
     "data": {
      "text/plain": [
       "49906"
      ]
     },
     "metadata": {},
     "execution_count": 107
    }
   ],
   "source": [
    "binomial_rv(100000,0.5)"
   ]
  },
  {
   "cell_type": "code",
   "execution_count": null,
   "metadata": {},
   "outputs": [],
   "source": []
  }
 ]
}